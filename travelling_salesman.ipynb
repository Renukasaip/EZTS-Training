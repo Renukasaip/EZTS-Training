{
 "cells": [
  {
   "cell_type": "code",
   "execution_count": 12,
   "id": "855d6650-1fdf-4590-883d-bbb7184c7644",
   "metadata": {},
   "outputs": [
    {
     "name": "stdout",
     "output_type": "stream",
     "text": [
      "[(0, 1), (0, 2), (0, 3), (1, 4), (2, 1), (2, 4), (3, 2), (3, 5), (4, 5)]\n",
      "{0: 0, 1: inf, 2: inf, 3: inf, 4: inf, 5: inf}\n",
      "{0: 0, 1: 1, 2: 3, 3: 5, 4: 0, 5: 3}\n"
     ]
    }
   ],
   "source": [
    "###Bellmanford Algorithm\n",
    "\n",
    "G=[\n",
    "    [0,6,4,5,False,False],\n",
    "    [False,0,False,False,-1,False],\n",
    "    [False,-2,0,False,3,False],\n",
    "    [False,False,-2,0,False,-1],\n",
    "    [False,False,False,False,0,3],\n",
    "    [False,False,False,False,False,0]\n",
    "]\n",
    "#d={0:\"A\",1:\"B\",2:\"C\",3:\"D\",4:\"E\",5:\"F\"}\n",
    "\n",
    "E_L=[]\n",
    "for i in range(len(G)):\n",
    "    for j in range(len(G[i])):\n",
    "        if G[i][j]!=False and G[i][j]!=0:\n",
    "            E_L.append(tuple((i,j)))\n",
    "\n",
    "print(E_L)\n",
    "dist={}\n",
    "for i in range(len(G)):\n",
    "    dist[i]=float(\"inf\")\n",
    "    \n",
    "dist[0]=0\n",
    "print(dist)\n",
    "for i in range(len(G)-1):\n",
    "    for j in E_L:\n",
    "        new_dist=dist[j[0]]+G[j[0]][j[1]]\n",
    "        if dist[j[1]]>new_dist:\n",
    "            dist[j[1]]=new_dist\n",
    "            \n",
    "        \n",
    "print(dist)   \n",
    "\n",
    "        \n",
    "        "
   ]
  },
  {
   "cell_type": "code",
   "execution_count": 5,
   "id": "5ba48437-d1c6-416c-9176-d9f6eb5f941d",
   "metadata": {},
   "outputs": [
    {
     "name": "stdout",
     "output_type": "stream",
     "text": [
      "[0, 6, 10, 5, 8, 11, 8, 2, 16, 10]\n"
     ]
    }
   ],
   "source": [
    "##Dijshtra Algorithm\n",
    "\n",
    "G=[\n",
    "    [0,7,False,False,False,False,False,2,False,False],\n",
    "    [7,0,4,1,False,5,False,False,False,False],\n",
    "    [False,4,0,False,False,False,False,8,False,False],\n",
    "    [False,1,False,0,6,8,3,3,False,False],\n",
    "    [False,False,False,6,0,False,False,6,8,False],\n",
    "    [False,5,False,8,False,0,False,False,False,False],\n",
    "    [False,False,False,3,False,False,0,False,9,2],\n",
    "    [2,False,8,3,6,False,False,0,False,False],\n",
    "    [False,False,False,False,8,False,9,False,0,False],\n",
    "    [False,False,False,False,False,False,2,False,False,0]\n",
    "]\n",
    "temp={}\n",
    "for i in range(len(G)):\n",
    "    temp[i]=float(\"inf\")\n",
    "Dist=[float(\"inf\")]*len(G)\n",
    "\n",
    "temp[0]=0\n",
    "while len(temp)>0:\n",
    "    min_value=min(temp.values())\n",
    "    min_key=min(temp,key=temp.get)\n",
    "    temp.pop(min_key)\n",
    "    Dist[min_key]=min_value\n",
    "    #temp_min=float(\"inf\")\n",
    "    for j in range(len(G[min_key])):\n",
    "        if G[min_key][j]!=False and G[min_key][j]!=0:\n",
    "            new_dist=min_value+G[min_key][j]\n",
    "            if j in temp.keys() and temp[j]>new_dist:\n",
    "                temp[j]=new_dist\n",
    "\n",
    "print(Dist)"
   ]
  },
  {
   "cell_type": "code",
   "execution_count": 24,
   "id": "e2dc5041-cf17-46ce-8098-71560fbe9fe6",
   "metadata": {},
   "outputs": [
    {
     "name": "stdout",
     "output_type": "stream",
     "text": [
      "Minimum cost=  19\n"
     ]
    }
   ],
   "source": [
    "##Example for dynamic programming using recursion\n",
    "\n",
    "import sys\n",
    "\n",
    "def cost(curr,VL,G,dp):\n",
    "    n=len(G)\n",
    "    if len(VL)==n:\n",
    "        return G[curr][0]\n",
    "    visit=tuple(VL)\n",
    "    if(curr,visit) in dp:\n",
    "        return dp[(curr,visit)]\n",
    "        \n",
    "    mim = sys.maxsize\n",
    "    for i in range(n):\n",
    "        if i not in VL:\n",
    "            new_visit=VL+[i]\n",
    "            new_cost=G[curr][i]+cost(i,new_visit,G,dp)\n",
    "            mim=min(mim,new_cost)\n",
    "    dp[(curr,visit)]=mim\n",
    "    return mim\n",
    "\n",
    "\n",
    "G=[ [0,4,7,5,5],\n",
    "    [4,0,2,4,8],\n",
    "    [7,2,0,3,3],\n",
    "    [5,4,3,0,6],\n",
    "    [5,8,3,6,0]]\n",
    "n=len(G)\n",
    "dp={}\n",
    "print(\"Minimum cost= \",cost(0,[0],G,dp))\n",
    "\n"
   ]
  },
  {
   "cell_type": "code",
   "execution_count": 45,
   "id": "a8def426-3b4e-4c23-b047-a6e748945aff",
   "metadata": {},
   "outputs": [
    {
     "name": "stdout",
     "output_type": "stream",
     "text": [
      "5\n"
     ]
    }
   ],
   "source": [
    "S=\"ADDCMABABCANFDKABABCNCKABABACADKFJUGF\"\n",
    "print(S.index(\"ABABCA\"))"
   ]
  },
  {
   "cell_type": "code",
   "execution_count": 3,
   "id": "e07deec6-f8e8-4bbc-bdc8-e3b1eebfebcd",
   "metadata": {},
   "outputs": [
    {
     "name": "stdin",
     "output_type": "stream",
     "text": [
      " ABCAB\n"
     ]
    },
    {
     "name": "stdout",
     "output_type": "stream",
     "text": [
      "[12, 15, 18]\n"
     ]
    }
   ],
   "source": [
    "S=\"ABABACDEABABABCABCABCABDAA\"\n",
    "P=input()\n",
    "n=len(P)\n",
    "index=[]\n",
    "for i in range(len(S)):\n",
    "    if S[i:i+n]==P:\n",
    "        index.append(i)\n",
    "\n",
    "print(index)"
   ]
  },
  {
   "cell_type": "code",
   "execution_count": 1,
   "id": "69662cde-3e58-4f2a-8a5e-ee150637c5f4",
   "metadata": {},
   "outputs": [
    {
     "name": "stdout",
     "output_type": "stream",
     "text": [
      "[0, 0, 0, 1, 2]\n",
      "Pattern found 12\n",
      "Pattern found 15\n",
      "Pattern found 18\n"
     ]
    }
   ],
   "source": [
    "##Finding Pattern at there respective index\n",
    "def kmpalgo(P,S):\n",
    "    M=len(P)\n",
    "    N=len(S)\n",
    "    lps=[]\n",
    "    LPS(P,M,lps)\n",
    "    print(lps)\n",
    "    i=0\n",
    "    j=0\n",
    "    while(N-i)>=(M-j):\n",
    "        if P[j]==S[i]:\n",
    "            i+=1\n",
    "            j+=1\n",
    "\n",
    "        if j==M:\n",
    "            print(\"Pattern found\",i-j)\n",
    "            j=lps[j-1]\n",
    "        elif i<N and P[j]!=S[i]:\n",
    "            if j!=0:\n",
    "                j=lps[j-1]\n",
    "            else:\n",
    "                i+=1\n",
    "def LPS(P,M,lps):\n",
    "    lps.append(0) \n",
    "    j=0\n",
    "    for i in range(1,len(P)):\n",
    "        if P[i]==P[j]:\n",
    "            lps.append(j+1)\n",
    "            j+=1\n",
    "        else:\n",
    "            j=0\n",
    "            lps.append(j)\n",
    "if __name__=='__main__':\n",
    "    S=\"ABABACDEABABABCABCABCABDAA\"\n",
    "    P=\"ABCAB\"\n",
    "    kmpalgo(P,S)"
   ]
  },
  {
   "cell_type": "code",
   "execution_count": null,
   "id": "e6f41893-6e07-4e3a-9ba4-345081073718",
   "metadata": {},
   "outputs": [],
   "source": []
  }
 ],
 "metadata": {
  "kernelspec": {
   "display_name": "Python 3 (ipykernel)",
   "language": "python",
   "name": "python3"
  },
  "language_info": {
   "codemirror_mode": {
    "name": "ipython",
    "version": 3
   },
   "file_extension": ".py",
   "mimetype": "text/x-python",
   "name": "python",
   "nbconvert_exporter": "python",
   "pygments_lexer": "ipython3",
   "version": "3.12.0"
  }
 },
 "nbformat": 4,
 "nbformat_minor": 5
}
