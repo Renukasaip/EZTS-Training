{
 "cells": [
  {
   "cell_type": "code",
   "execution_count": 16,
   "id": "dd023b45-408d-46a2-a21c-016090b97d0f",
   "metadata": {},
   "outputs": [
    {
     "name": "stdin",
     "output_type": "stream",
     "text": [
      "enter the operation 2%2\n"
     ]
    },
    {
     "name": "stdout",
     "output_type": "stream",
     "text": [
      "The result of the modulus is:0.0\n"
     ]
    }
   ],
   "source": [
    "s=input(\"enter the operation\")\n",
    "op=['+','-','*','/','%']\n",
    "x=' '\n",
    "for i in op:\n",
    "    if i in s:\n",
    "        x=i\n",
    "        break\n",
    "    \n",
    "\n",
    "if x:\n",
    "    operands=s.split(x)\n",
    "    if len(operands)==2:\n",
    "        num1=float(operands[0].strip())\n",
    "        num2=float(operands[1].strip())\n",
    "        if x=='+':\n",
    "            result=num1+num2\n",
    "            operation=\"addition\"\n",
    "        elif x=='-':\n",
    "            result=num1-num2\n",
    "            operation=\"sub\"\n",
    "        elif x=='*':\n",
    "            result=num1*num2\n",
    "            operation=\"multiplication\"\n",
    "        elif x=='/':\n",
    "            result=num1/num2\n",
    "            operation=\"divition\"\n",
    "        elif x=='%':\n",
    "            result=num1%num2\n",
    "            operation=\"modulus\"\n",
    "        else:\n",
    "            result=None\n",
    "            operation=\"invalid\"\n",
    "        if result is not None:\n",
    "            print(f\"The result of the {operation} is:{result}\")\n",
    "        else:\n",
    "            print(\"invalid\")\n",
    "    else:\n",
    "        print(\"invalid expression\")\n",
    "else:\n",
    "    print(\"operator not found\")\n",
    "\n",
    "      \n"
   ]
  },
  {
   "cell_type": "code",
   "execution_count": null,
   "id": "608923d0-2968-4961-a04a-a3d415ca42e7",
   "metadata": {},
   "outputs": [],
   "source": []
  }
 ],
 "metadata": {
  "kernelspec": {
   "display_name": "Python 3 (ipykernel)",
   "language": "python",
   "name": "python3"
  },
  "language_info": {
   "codemirror_mode": {
    "name": "ipython",
    "version": 3
   },
   "file_extension": ".py",
   "mimetype": "text/x-python",
   "name": "python",
   "nbconvert_exporter": "python",
   "pygments_lexer": "ipython3",
   "version": "3.12.0"
  }
 },
 "nbformat": 4,
 "nbformat_minor": 5
}
