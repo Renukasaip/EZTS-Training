{
 "cells": [
  {
   "cell_type": "code",
   "execution_count": 1,
   "id": "39c00615-1b11-4c8b-aeea-f6fac1946c07",
   "metadata": {},
   "outputs": [
    {
     "name": "stdin",
     "output_type": "stream",
     "text": [
      "enter a number:  11\n"
     ]
    },
    {
     "name": "stdout",
     "output_type": "stream",
     "text": [
      "(13, 12, False)\n"
     ]
    }
   ],
   "source": [
    "##check_prime in tuple\n",
    "def check_prime(k):\n",
    "    m=k\n",
    "    flag=0\n",
    "    if m<1:\n",
    "        flag=1\n",
    "    elif m==1:\n",
    "        flag=0\n",
    "    else:\n",
    "        for i in range(2,(m//2)+1):\n",
    "            if m%i==0:\n",
    "                flag=1\n",
    "                break\n",
    "    if flag==0:\n",
    "      return 1\n",
    "    else:\n",
    "      return 0\n",
    "    \n",
    "result=[]\n",
    "\n",
    "N=int(input(\"enter a number: \"))\n",
    "flag=0\n",
    "k=N+1\n",
    "while(flag<1):\n",
    "    flag=check_prime(k)\n",
    "    if flag==1:\n",
    "        result.append(k)\n",
    "    else:\n",
    "        k=k+1\n",
    "sum=0\n",
    "for i in range(N+1,k):\n",
    "    sum+=i \n",
    "result.append(sum)\n",
    "\n",
    "p1=k\n",
    "flag=0\n",
    "k=p1+1\n",
    "while(flag<1):\n",
    "    flag=check_prime(k)\n",
    "    if flag==1:\n",
    "        p2=k\n",
    "    else:\n",
    "        k=k+1\n",
    "p3=p1*p2\n",
    "flag=check_prime(p3)\n",
    "if flag==0:\n",
    "    result.append(False)\n",
    "else:\n",
    "    result.append(True)\n",
    "Prime_key=tuple(result)\n",
    "print(Prime_key)"
   ]
  },
  {
   "cell_type": "code",
   "execution_count": 2,
   "id": "8fa37663-d822-4b15-8597-0cd540a49911",
   "metadata": {},
   "outputs": [
    {
     "name": "stdin",
     "output_type": "stream",
     "text": [
      "enter a time 8\n"
     ]
    },
    {
     "name": "stdout",
     "output_type": "stream",
     "text": [
      "9\n"
     ]
    }
   ],
   "source": [
    "##maxuimum_problems_solved\n",
    "def max_problems_solved(T, N):\n",
    "    total_available_time = 240  \n",
    "    time_spent = 0\n",
    "    problems_solved = 0\n",
    "    \n",
    "    for i in range(1, N + 1):\n",
    "        time_needed = 5 * i\n",
    "        if time_spent + time_needed <= total_available_time:\n",
    "            time_spent += time_needed\n",
    "            problems_solved += 1\n",
    "        else:\n",
    "            break\n",
    "    \n",
    "    return problems_solved\n",
    "\n",
    "\n",
    "T = int(input(\"enter a time\"))\n",
    "#N = 10\n",
    "print(max_problems_solved(T, N))"
   ]
  },
  {
   "cell_type": "code",
   "execution_count": null,
   "id": "24f94041-ea05-464e-8caf-5d02aad7f2d0",
   "metadata": {},
   "outputs": [],
   "source": []
  }
 ],
 "metadata": {
  "kernelspec": {
   "display_name": "Python 3 (ipykernel)",
   "language": "python",
   "name": "python3"
  },
  "language_info": {
   "codemirror_mode": {
    "name": "ipython",
    "version": 3
   },
   "file_extension": ".py",
   "mimetype": "text/x-python",
   "name": "python",
   "nbconvert_exporter": "python",
   "pygments_lexer": "ipython3",
   "version": "3.12.0"
  }
 },
 "nbformat": 4,
 "nbformat_minor": 5
}
