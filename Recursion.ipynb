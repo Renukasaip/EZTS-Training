{
 "cells": [
  {
   "cell_type": "code",
   "execution_count": 1,
   "id": "283cd9dc-71c9-425d-94d0-1f75dd17e861",
   "metadata": {},
   "outputs": [
    {
     "name": "stdout",
     "output_type": "stream",
     "text": [
      "0 1 2 3 4 5 6 7 8 9 "
     ]
    }
   ],
   "source": [
    "###Basic Recursion Program for ascending Order \n",
    "def print_num(n):\n",
    "    if n<10:\n",
    "        print(n,end=\" \")\n",
    "        print_num(n+1)\n",
    "    return\n",
    "print_num(0)\n"
   ]
  },
  {
   "cell_type": "code",
   "execution_count": 2,
   "id": "31c8d4ea-e243-476f-b693-503701286426",
   "metadata": {},
   "outputs": [
    {
     "name": "stdout",
     "output_type": "stream",
     "text": [
      "9 8 7 6 5 4 3 2 1 0 "
     ]
    }
   ],
   "source": [
    "###Basic Recursion Program for descending Order \n",
    "def print_num(n):\n",
    "    if n<10:\n",
    "        print_num(n+1)\n",
    "        print(n,end=\" \")\n",
    "    return\n",
    "print_num(0)"
   ]
  },
  {
   "cell_type": "code",
   "execution_count": 4,
   "id": "e3e61a17-b773-4e2b-aaf1-1d2919664dd0",
   "metadata": {},
   "outputs": [
    {
     "name": "stdin",
     "output_type": "stream",
     "text": [
      " 20\n"
     ]
    },
    {
     "name": "stdout",
     "output_type": "stream",
     "text": [
      "4181\n",
      "[13529]\n"
     ]
    }
   ],
   "source": [
    "#recursion of fib series\n",
    "t=[0]\n",
    "\n",
    "def fib(n):\n",
    "    t[0]+=1\n",
    "    if n==1:\n",
    "        return 0\n",
    "    if n==2: \n",
    "        return 1\n",
    "    return fib(n-1)+fib(n-2)\n",
    "\n",
    "if __name__==\"__main__\":\n",
    "    n=int(input())\n",
    "    print(fib(n))\n",
    "    print(t)"
   ]
  },
  {
   "cell_type": "code",
   "execution_count": 5,
   "id": "c96c3af1-b5f0-47b5-828b-abf46cfe895f",
   "metadata": {},
   "outputs": [
    {
     "name": "stdin",
     "output_type": "stream",
     "text": [
      " 5\n"
     ]
    },
    {
     "name": "stdout",
     "output_type": "stream",
     "text": [
      "120\n",
      "[5]\n"
     ]
    }
   ],
   "source": [
    "### factorial using Recursion\n",
    "t=[0]\n",
    "def fact(n):\n",
    "    t[0]+=1\n",
    "    if (n==0) or (n==1):\n",
    "        return 1\n",
    "    else:\n",
    "        return n*fact(n-1)\n",
    "\n",
    "n=int(input())\n",
    "print(fact(n))\n",
    "print(t)"
   ]
  },
  {
   "cell_type": "code",
   "execution_count": null,
   "id": "5562acb6-f6b4-48d7-b99a-f39581b80315",
   "metadata": {},
   "outputs": [],
   "source": []
  }
 ],
 "metadata": {
  "kernelspec": {
   "display_name": "Python 3 (ipykernel)",
   "language": "python",
   "name": "python3"
  },
  "language_info": {
   "codemirror_mode": {
    "name": "ipython",
    "version": 3
   },
   "file_extension": ".py",
   "mimetype": "text/x-python",
   "name": "python",
   "nbconvert_exporter": "python",
   "pygments_lexer": "ipython3",
   "version": "3.12.0"
  }
 },
 "nbformat": 4,
 "nbformat_minor": 5
}
