{
 "cells": [
  {
   "cell_type": "code",
   "execution_count": 1,
   "id": "a44c799a-76f5-4613-9e61-cb76a8f9379e",
   "metadata": {},
   "outputs": [
    {
     "name": "stdin",
     "output_type": "stream",
     "text": [
      " 4 7 8 3 2 9 6 1 5 10\n"
     ]
    },
    {
     "name": "stdout",
     "output_type": "stream",
     "text": [
      "9 0 9\n",
      "4 0 8\n",
      "0 0 3\n",
      "3 1 3\n",
      "1 1 2\n",
      "7 5 8\n",
      "6 5 6\n",
      "sorted array=  [1, 2, 3, 4, 5, 6, 7, 8, 9, 10]\n"
     ]
    }
   ],
   "source": [
    "#Quick sort\n",
    "def divide(L,Low,High):\n",
    "    P=L[High]\n",
    "    Pi=High\n",
    "    j=Low-1\n",
    "    for i in range(Low,High):\n",
    "        if L[i]<=P:\n",
    "            j+=1\n",
    "            L[i],L[j]=L[j],L[i]\n",
    "    j+=1 \n",
    "    L[j],L[Pi]=L[Pi],L[j]\n",
    "    Pi=j\n",
    "    return Pi\n",
    "\n",
    "def Quick_sort(L,Low,High):\n",
    "    if Low<High:\n",
    "        Pi=divide(L,Low,High)\n",
    "        print(Pi,Low,High)\n",
    "        Quick_sort(L,Low,Pi-1)\n",
    "        Quick_sort(L,Pi+1,High)\n",
    "    return\n",
    "\n",
    "if __name__==\"__main__\":\n",
    "    L=list(map(int,input().split()))\n",
    "    Quick_sort(L,0,len(L)-1)\n",
    "\n",
    "    print(\"sorted array= \",L)"
   ]
  },
  {
   "cell_type": "code",
   "execution_count": 1,
   "id": "d12535cd-2d52-4a0b-8888-253ebcfc780c",
   "metadata": {},
   "outputs": [
    {
     "name": "stdin",
     "output_type": "stream",
     "text": [
      " 4 7 8 3 2 9 6 1 5 10\n"
     ]
    },
    {
     "name": "stdout",
     "output_type": "stream",
     "text": [
      "0 9\n",
      "sorted array=  [1, 2, 3, 4, 5, 6, 7, 8, 9, 10]\n"
     ]
    }
   ],
   "source": [
    "###Merge Sort\n",
    "def merge(L,low,mid,high):\n",
    "    Left = L[low:mid+1]\n",
    "    Right = L[mid+1:high+1]\n",
    "       \n",
    "    #Temp=[0]*len(L)\n",
    "    i=j=0\n",
    "    t=low\n",
    "    while i<len(Left) and j<len(Right):\n",
    "        if Left[i]<Right[j]:\n",
    "           L[t]=Left[i]\n",
    "           i+=1\n",
    "           t+=1\n",
    "        else:\n",
    "           L[t]=Right[j]\n",
    "           j+=1\n",
    "           t+=1\n",
    "    while i<len(Left):\n",
    "        L[t]=Left[i]\n",
    "        i+=1\n",
    "        t+=1\n",
    "    while j<len(Right):\n",
    "        L[t]=Right[j]\n",
    "        j+=1\n",
    "        t+=1\n",
    "       \n",
    "def mergesort(L,low,high):\n",
    "    if low<high:\n",
    "        mid=(low+high)//2\n",
    "        mergesort(L,low,mid)\n",
    "        mergesort(L,mid+1,high)\n",
    "        merge(L,low,mid,high)\n",
    "\n",
    "if __name__==\"__main__\":\n",
    "    L=list(map(int,input().split()))\n",
    "    low=0\n",
    "    high=len(L)-1\n",
    "    print(low,high)\n",
    "    mergesort(L,low,high)\n",
    "\n",
    "    print(\"sorted array= \",L)\n",
    "        \n",
    "     "
   ]
  },
  {
   "cell_type": "code",
   "execution_count": null,
   "id": "3626f372-c9ad-48ec-9694-67b99e835979",
   "metadata": {},
   "outputs": [],
   "source": []
  }
 ],
 "metadata": {
  "kernelspec": {
   "display_name": "Python 3 (ipykernel)",
   "language": "python",
   "name": "python3"
  },
  "language_info": {
   "codemirror_mode": {
    "name": "ipython",
    "version": 3
   },
   "file_extension": ".py",
   "mimetype": "text/x-python",
   "name": "python",
   "nbconvert_exporter": "python",
   "pygments_lexer": "ipython3",
   "version": "3.12.0"
  }
 },
 "nbformat": 4,
 "nbformat_minor": 5
}
