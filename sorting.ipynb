{
 "cells": [
  {
   "cell_type": "code",
   "execution_count": 2,
   "id": "d3147494-0868-40ae-b119-22f143d56df8",
   "metadata": {},
   "outputs": [
    {
     "name": "stdin",
     "output_type": "stream",
     "text": [
      " 10 5 3 8 6 2 1\n"
     ]
    },
    {
     "name": "stdout",
     "output_type": "stream",
     "text": [
      "[1, 2, 3, 5, 6, 8, 10]\n",
      "1\n"
     ]
    }
   ],
   "source": [
    "  ###Bubble Sort\n",
    "L=list(map(int,input().split()))\n",
    "n=len(L)\n",
    "for j in range(0,n):\n",
    "    for i in range(0,n-1-j):\n",
    "        if L[i]>L[i+1]:\n",
    "            L[i],L[i+1]=L[i+1],L[i]\n",
    "\n",
    "print(L)\n",
    "print(L[i])"
   ]
  },
  {
   "cell_type": "code",
   "execution_count": 3,
   "id": "b66b862c-c1f1-4164-85a1-c9172bd0bf59",
   "metadata": {},
   "outputs": [
    {
     "name": "stdin",
     "output_type": "stream",
     "text": [
      "  9 7 5 8 10 26 44 3 1\n"
     ]
    },
    {
     "name": "stdout",
     "output_type": "stream",
     "text": [
      "[1, 3, 5, 7, 8, 9, 10, 26, 44]\n",
      "44\n"
     ]
    }
   ],
   "source": [
    "###Selsction Sort\n",
    "L=list(map(int,input().split()))\n",
    "n=len(L)\n",
    "for j in range(0,n):\n",
    "    pos=j\n",
    "    target=L[j]\n",
    "    for i in range(j,n):\n",
    "        if L[i]<target:\n",
    "           target=L[i]\n",
    "           pos=i\n",
    "    L[j],L[pos]=L[pos],L[j]\n",
    "print(L)\n",
    "print(target)"
   ]
  },
  {
   "cell_type": "code",
   "execution_count": 4,
   "id": "050a5086-6eaa-40f5-b4f2-cd046c25e976",
   "metadata": {},
   "outputs": [
    {
     "name": "stdin",
     "output_type": "stream",
     "text": [
      "  9 7 5 8 10 26 44 3 1\n"
     ]
    },
    {
     "name": "stdout",
     "output_type": "stream",
     "text": [
      "1\n"
     ]
    }
   ],
   "source": [
    "### Search Sort \n",
    "L=list(map(int,input().split()))\n",
    "n=len(L)\n",
    "target=L[0]\n",
    "for i in range(0,n):\n",
    "   if L[i]<target:\n",
    "     target=L[i]\n",
    "print(target)"
   ]
  },
  {
   "cell_type": "code",
   "execution_count": null,
   "id": "35102b5d-2aa7-48b4-a080-ed55794c2088",
   "metadata": {},
   "outputs": [],
   "source": []
  }
 ],
 "metadata": {
  "kernelspec": {
   "display_name": "Python 3 (ipykernel)",
   "language": "python",
   "name": "python3"
  },
  "language_info": {
   "codemirror_mode": {
    "name": "ipython",
    "version": 3
   },
   "file_extension": ".py",
   "mimetype": "text/x-python",
   "name": "python",
   "nbconvert_exporter": "python",
   "pygments_lexer": "ipython3",
   "version": "3.12.0"
  }
 },
 "nbformat": 4,
 "nbformat_minor": 5
}
