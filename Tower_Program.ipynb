{
 "cells": [
  {
   "cell_type": "code",
   "execution_count": 12,
   "id": "2c97b7b0-27ae-4cda-96dd-abcaefd5938b",
   "metadata": {},
   "outputs": [
    {
     "name": "stdout",
     "output_type": "stream",
     "text": [
      "move 1 from A to C\n",
      "1\n",
      "[1]\n",
      "move 2 from A to B\n",
      "1\n",
      "[2]\n",
      "move 1 from C to B\n",
      "2\n",
      "[3]\n",
      "move 3 from A to C\n",
      "1\n",
      "[4]\n",
      "move 1 from B to A\n",
      "2\n",
      "[5]\n",
      "move 2 from B to C\n",
      "2\n",
      "[6]\n",
      "move 1 from A to C\n",
      "3\n",
      "[7]\n"
     ]
    }
   ],
   "source": [
    "ctr=0\n",
    "ctr1=[0]\n",
    "def tower (n,frm,to,aux,ctr):\n",
    "    if n==0:\n",
    "        return\n",
    "    tower(n-1,frm,aux,to,ctr)\n",
    "    print(f\"move {n} from {frm} to {to}\")\n",
    "    ctr+=1\n",
    "    ctr1[0]+=1\n",
    "    print(ctr)\n",
    "    print(ctr1)\n",
    "    tower(n-1,aux,to,frm,ctr)\n",
    "\n",
    "n=3\n",
    "tower(n,'A','C','B',ctr)\n",
    "#print(ctr)"
   ]
  },
  {
   "cell_type": "code",
   "execution_count": 7,
   "id": "edcb5f25-f173-402c-91ee-4d386d5bef46",
   "metadata": {},
   "outputs": [
    {
     "data": {
      "text/plain": [
       "18446744073709551615"
      ]
     },
     "execution_count": 7,
     "metadata": {},
     "output_type": "execute_result"
    }
   ],
   "source": [
    "(2**64)-1"
   ]
  },
  {
   "cell_type": "code",
   "execution_count": null,
   "id": "5fc4efaf-64ef-45dd-854a-1e3b2a4c8dda",
   "metadata": {},
   "outputs": [],
   "source": [
    " "
   ]
  }
 ],
 "metadata": {
  "kernelspec": {
   "display_name": "Python 3 (ipykernel)",
   "language": "python",
   "name": "python3"
  },
  "language_info": {
   "codemirror_mode": {
    "name": "ipython",
    "version": 3
   },
   "file_extension": ".py",
   "mimetype": "text/x-python",
   "name": "python",
   "nbconvert_exporter": "python",
   "pygments_lexer": "ipython3",
   "version": "3.12.0"
  }
 },
 "nbformat": 4,
 "nbformat_minor": 5
}
