{
 "cells": [
  {
   "cell_type": "code",
   "execution_count": null,
   "id": "0eb068a7-5413-4aab-a9d6-244e5aaa2600",
   "metadata": {},
   "outputs": [],
   "source": []
  }
 ],
 "metadata": {
  "kernelspec": {
   "display_name": "",
   "name": ""
  },
  "language_info": {
   "name": ""
  }
 },
 "nbformat": 4,
 "nbformat_minor": 5
}
