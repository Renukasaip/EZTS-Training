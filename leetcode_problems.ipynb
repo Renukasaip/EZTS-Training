{
 "cells": [
  {
   "cell_type": "code",
   "execution_count": 12,
   "id": "8e372056-f591-42e5-8c0d-e0d3de8ded16",
   "metadata": {},
   "outputs": [
    {
     "data": {
      "text/plain": [
       "[1, 0]"
      ]
     },
     "execution_count": 12,
     "metadata": {},
     "output_type": "execute_result"
    }
   ],
   "source": [
    "#class Solution\n",
    "def twoSum(nums,target):\n",
    "    pair_index={}\n",
    "    for i,num in enumerate(nums):\n",
    "        if target-num in pair_index:\n",
    "            return[i,pair_index[target-num]]\n",
    "        pair_index[num]=i\n",
    "\n",
    "nums=[7,2,11,15]\n",
    "target=9\n",
    "twoSum(nums,target)"
   ]
  },
  {
   "cell_type": "code",
   "execution_count": null,
   "id": "3c92be45-5cc5-4e74-8e79-211c34693a60",
   "metadata": {},
   "outputs": [],
   "source": [
    "class Solution:\n",
    "    def addTwoNumbers(self, l1: Optional[ListNode], l2: Optional[ListNode]) -> Optional[ListNode]:\n",
    "        temp=ListNode()\n",
    "        rev=temp\n",
    "        tot=carry=0\n",
    "        while l1 or l2 or carry:\n",
    "            tot=carry\n",
    "            if l1:\n",
    "                tot+=l1.val\n",
    "                l1=l1.next\n",
    "            if l2:\n",
    "                tot+=l2.val\n",
    "                l2=l2.next\n",
    "            num=tot%10\n",
    "            carry=tot//10\n",
    "            temp.next=ListNode(num)\n",
    "            temp=temp.next\n",
    "        return rev.next"
   ]
  },
  {
   "cell_type": "code",
   "execution_count": null,
   "id": "eade291c-608d-4d3e-8d3f-42905ed36549",
   "metadata": {},
   "outputs": [],
   "source": []
  }
 ],
 "metadata": {
  "kernelspec": {
   "display_name": "Python 3 (ipykernel)",
   "language": "python",
   "name": "python3"
  },
  "language_info": {
   "codemirror_mode": {
    "name": "ipython",
    "version": 3
   },
   "file_extension": ".py",
   "mimetype": "text/x-python",
   "name": "python",
   "nbconvert_exporter": "python",
   "pygments_lexer": "ipython3",
   "version": "3.12.0"
  }
 },
 "nbformat": 4,
 "nbformat_minor": 5
}
