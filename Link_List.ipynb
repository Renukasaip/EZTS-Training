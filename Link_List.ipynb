{
 "cells": [
  {
   "cell_type": "code",
   "execution_count": 2,
   "id": "e5ba4fd9-199c-432e-b372-881d9694086a",
   "metadata": {},
   "outputs": [
    {
     "name": "stdout",
     "output_type": "stream",
     "text": [
      "<__main__.Node object at 0x00000239557889B0>\n",
      "<__main__.Node object at 0x0000023956C05670>\n",
      "<__main__.Node object at 0x0000023956C05670>\n"
     ]
    }
   ],
   "source": [
    "###Link List\n",
    "class Node:\n",
    "    def __init__(self,data):\n",
    "        self.value=data\n",
    "        self.next=None\n",
    "\n",
    "Head=Tail=Node(10)\n",
    "Tail.next=Node(20)\n",
    "Tail=Tail.next\n",
    "Tail.next=Node(30)\n",
    "Tail=Tail.next\n",
    "Tail.next=Node(40)\n",
    "Tail=Tail.next  \n",
    "print(Head)\n",
    "print(Tail)\n",
    "print(Head.next.next.next)"
   ]
  },
  {
   "cell_type": "code",
   "execution_count": 3,
   "id": "5c3c71f6-62ec-4108-825d-eff5cca7072d",
   "metadata": {},
   "outputs": [
    {
     "name": "stdout",
     "output_type": "stream",
     "text": [
      "10\n",
      "20\n",
      "30\n",
      "40\n"
     ]
    }
   ],
   "source": [
    "def print_link_list(Head):\n",
    "    if Head==None:\n",
    "        print(\"list is empty\")\n",
    "        return\n",
    "    curr=Head\n",
    "    while curr!=None:\n",
    "        print(curr.value)\n",
    "        curr=curr.next\n",
    "        \n",
    "print_link_list(Head)"
   ]
  },
  {
   "cell_type": "code",
   "execution_count": 4,
   "id": "d3d2d6d0-9a1f-4832-a8b2-ac631f8ace0f",
   "metadata": {},
   "outputs": [
    {
     "name": "stdin",
     "output_type": "stream",
     "text": [
      "enter the operation 2*2\n"
     ]
    },
    {
     "name": "stdout",
     "output_type": "stream",
     "text": [
      "The result of the multiplication is:4.0\n"
     ]
    }
   ],
   "source": [
    "s=input(\"enter the operation\")\n",
    "op=['+','-','*','/','%','//','**']\n",
    "x=' '\n",
    "for i in op:\n",
    "    if i in s:\n",
    "        x=i\n",
    "        break\n",
    "    \n",
    "\n",
    "if x:\n",
    "    operands=s.split(x)\n",
    "    if len(operands)==2:\n",
    "        num1=float(operands[0].strip())\n",
    "        num2=float(operands[1].strip())\n",
    "        if x=='+':\n",
    "            result=num1+num2\n",
    "            operation=\"addition\"\n",
    "        elif x=='-':\n",
    "            result=num1-num2\n",
    "            operation=\"sub\"\n",
    "        elif x=='*':\n",
    "            result=num1*num2\n",
    "            operation=\"multiplication\"\n",
    "        elif x=='/':\n",
    "            result=num1/num2\n",
    "            operation=\"divition\"\n",
    "        elif x=='//':\n",
    "            result=num1//num2\n",
    "            operation=\"floar\"\n",
    "        elif x=='**':\n",
    "            result=num1**num2\n",
    "            operation=\"power\"\n",
    "        else:\n",
    "            result=None\n",
    "            operation=\"invalid\"\n",
    "        if result is not None:\n",
    "            print(f\"The result of the {operation} is:{result}\")\n",
    "        else:\n",
    "            print(\"invalid\")\n",
    "    else:\n",
    "        print(\"invalid expression\")\n",
    "else:\n",
    "    print(\"operator not found\")\n",
    "\n",
    "      \n"
   ]
  },
  {
   "cell_type": "code",
   "execution_count": null,
   "id": "6491a6ef-4d0e-47bb-9f87-811ee2eee6ac",
   "metadata": {},
   "outputs": [],
   "source": []
  }
 ],
 "metadata": {
  "kernelspec": {
   "display_name": "Python 3 (ipykernel)",
   "language": "python",
   "name": "python3"
  },
  "language_info": {
   "codemirror_mode": {
    "name": "ipython",
    "version": 3
   },
   "file_extension": ".py",
   "mimetype": "text/x-python",
   "name": "python",
   "nbconvert_exporter": "python",
   "pygments_lexer": "ipython3",
   "version": "3.12.0"
  }
 },
 "nbformat": 4,
 "nbformat_minor": 5
}
