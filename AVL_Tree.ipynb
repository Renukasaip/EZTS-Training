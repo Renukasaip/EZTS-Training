{
 "cells": [
  {
   "cell_type": "code",
   "execution_count": 1,
   "id": "388aad09-8b77-4bd1-893b-2bcf357b55c7",
   "metadata": {},
   "outputs": [
    {
     "name": "stdout",
     "output_type": "stream",
     "text": [
      "0\n",
      "7\n",
      "12\n",
      "17\n",
      "19\n",
      "21\n",
      "27\n",
      "29\n",
      "34\n",
      "38\n",
      "75\n",
      "99\n",
      "100\n",
      "134\n",
      "143\n"
     ]
    }
   ],
   "source": [
    "class node:#class for tree node\n",
    "    def __init__(self,data):\n",
    "        self.val=data\n",
    "        self.left=None\n",
    "        self.right=None\n",
    "        self.height=1 #for single node height is 1\n",
    "\n",
    "def insert(root,super):\n",
    "    if not root:\n",
    "        return node(super)\n",
    "    if super<root.val:\n",
    "        root.left=insert(root.left,super)\n",
    "    else:\n",
    "        root.right=insert(root.right,super)\n",
    "        \n",
    "    root.height=1+max(ght(root.left),ght(root.right)) #to\n",
    "     \n",
    "    BF=getBF(root)\n",
    "        \n",
    "    \n",
    "    \n",
    "    #RR ROTATION\n",
    "    if BF>1 and super<root.left.val:\n",
    "        return rightRotate(root)\n",
    "    \n",
    "    #RL ROTATION\n",
    "    if BF>1 and super>root.left.val:\n",
    "        root.left=leftRotate(root.left)\n",
    "        return rightRotate(root)\n",
    "    \n",
    "    #LL ROTATION\n",
    "    if BF<-1 and super>root.right.val:\n",
    "        return leftRotate(root)\n",
    "    \n",
    "    #LR ROTATION\n",
    "    if BF<-1 and super<root.right.val:\n",
    "        root.right=rightRotate(root.right)\n",
    "        return leftRotate(root)\n",
    "    \n",
    "    return root \n",
    "def ght(root):\n",
    "    if not root:\n",
    "        return 0\n",
    "    return root.height\n",
    "def getBF(root):\n",
    "    if not root:\n",
    "        return 0\n",
    "    return ght(root.left)-ght(root.right)\n",
    "def leftRotate(A):\n",
    "    B=A.right\n",
    "    temp=B.left\n",
    "    \n",
    "    B.left=A\n",
    "    A.right=temp\n",
    "    A.height=1+max(ght(A.left),ght(A.right)) \n",
    "    B.height=1+max(ght(B.left),ght(B.right))\n",
    "    \n",
    "    return B\n",
    "def rightRotate(A):\n",
    "    B=A.left\n",
    "    temp=B.right\n",
    "    \n",
    "    B.right=A\n",
    "    A.left=temp\n",
    "    \n",
    "    A.height=1+max(ght(A.left),ght(A.right)) \n",
    "    B.height=1+max(ght(B.left),ght(B.right))\n",
    "    \n",
    "    return B\n",
    "\n",
    "def inorder(root):#print the data in inorder format\n",
    "    if not root:\n",
    "        return\n",
    "    inorder(root.left)\n",
    "    print(root.val)\n",
    "    inorder(root.right)\n",
    "\n",
    "if __name__==\"__main__\":\n",
    "    root=None\n",
    "    VL=[19,99,75,7,21,34,38,27,134,100,29,0,12,17,143]\n",
    "    for i in VL:\n",
    "        root=insert(root,i)\n",
    "        \n",
    "    inorder(root)"
   ]
  },
  {
   "cell_type": "code",
   "execution_count": 2,
   "id": "26305a34-a8b7-4c76-8e6c-5842df5132ac",
   "metadata": {},
   "outputs": [
    {
     "name": "stdin",
     "output_type": "stream",
     "text": [
      "enter the number seperated with comma:  1 3 2 \n"
     ]
    },
    {
     "name": "stdout",
     "output_type": "stream",
     "text": [
      "(1, 3, 2)\n",
      "0\n"
     ]
    }
   ],
   "source": [
    "n=list(map(int,input(\"enter the number seperated with comma: \").split()))\n",
    "tup=tuple(n)\n",
    "print(tup)\n",
    "m=tup.count(\",\")\n",
    "print(m)\n",
    "       \n",
    "    "
   ]
  },
  {
   "cell_type": "code",
   "execution_count": 4,
   "id": "847300a5-0d83-48da-825d-e8bf87fe253a",
   "metadata": {},
   "outputs": [
    {
     "name": "stdin",
     "output_type": "stream",
     "text": [
      " 10,5,4,6,-1,2,1\n"
     ]
    },
    {
     "name": "stdout",
     "output_type": "stream",
     "text": [
      "1\n"
     ]
    }
   ],
   "source": [
    "n=list(map(int,input().split(',')))\n",
    "n.sort()\n",
    "for i in range(len(n)+1):\n",
    "    if n[i]>0:\n",
    "        print(n[i])\n",
    "        break"
   ]
  },
  {
   "cell_type": "code",
   "execution_count": null,
   "id": "b5cee055-4292-4c30-af12-192d43bfef0f",
   "metadata": {},
   "outputs": [],
   "source": []
  }
 ],
 "metadata": {
  "kernelspec": {
   "display_name": "Python 3 (ipykernel)",
   "language": "python",
   "name": "python3"
  },
  "language_info": {
   "codemirror_mode": {
    "name": "ipython",
    "version": 3
   },
   "file_extension": ".py",
   "mimetype": "text/x-python",
   "name": "python",
   "nbconvert_exporter": "python",
   "pygments_lexer": "ipython3",
   "version": "3.12.0"
  }
 },
 "nbformat": 4,
 "nbformat_minor": 5
}
