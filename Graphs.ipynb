{
 "cells": [
  {
   "cell_type": "code",
   "execution_count": 39,
   "id": "0f1f138a-dc8b-4cb2-8cb8-77f6dcb377f2",
   "metadata": {},
   "outputs": [
    {
     "name": "stdout",
     "output_type": "stream",
     "text": [
      "5\n",
      "3\n",
      "6\n",
      "8\n",
      "4\n",
      "7\n",
      "2\n",
      "1\n"
     ]
    }
   ],
   "source": [
    " ##Graph\n",
    "def DFS(A,V,S,E):\n",
    "    if V[E]==False:\n",
    "        S.append(E)\n",
    "        V[E]=True\n",
    "    else:\n",
    "        return\n",
    "    for i in A[E]:\n",
    "        DFS(A,V,S,i[1])\n",
    "    print(S.pop())\n",
    "\n",
    "S=[]\n",
    "V={1:False,2:False,3:False,4:False,5:False,6:False,7:False,8:False}\n",
    "A={ \n",
    "    1:([(1,2,0),(1,3,0)]),\n",
    "    2:([(2,1,0),(2,7,0)]),\n",
    "    3:([(3,1,0),(3,5,0),(3,6,0)]),\n",
    "    4:([(4,8,0),(4,7,0)]),\n",
    "    5:([(5,3,0),(5,7,0)]),\n",
    "    6:([(6,3,0),(6,8,0)]),\n",
    "    7:([(7,2,0),(7,4,0),(7,5,0)]),\n",
    "    8:([(8,4,0),(8,6,0)])\n",
    "}\n",
    "\n",
    "DFS(A,V,S,1)"
   ]
  },
  {
   "cell_type": "code",
   "execution_count": 22,
   "id": "8a842932-2864-478e-9245-b72c0bff9af3",
   "metadata": {},
   "outputs": [
    {
     "name": "stdout",
     "output_type": "stream",
     "text": [
      "1\n",
      "2\n",
      "3\n",
      "7\n",
      "6\n",
      "5\n",
      "4\n",
      "8\n"
     ]
    }
   ],
   "source": [
    "def BFS(g,e):\n",
    "    q=[e]\n",
    "    v={}\n",
    "    for i in g.keys():\n",
    "        v[i]=False\n",
    "    v[e]=True\n",
    "    while len(q)!=0:\n",
    "        curr=q.pop(0)\n",
    "        print(curr)\n",
    "        for i in g[curr]:\n",
    "            if v[i[1]]==False:\n",
    "                q.append(i[1])\n",
    "                v[i[1]]=True\n",
    "g={ \n",
    "    1:([(1,2,0),(1,3,0)]),\n",
    "    2:([(2,1,0),(2,7,0)]),\n",
    "    3:([(3,1,0),(3,6,0),(3,5,0)]),\n",
    "    4:([(4,7,0),(4,8,0)]),\n",
    "    5:([(5,3,0),(5,7,0)]),\n",
    "    6:([(6,3,0),(6,8,0)]),\n",
    "    7:([(7,2,0),(7,5,0),(7,4,0)]),\n",
    "    8:([(8,4,0),(8,6,0)])\n",
    "}\n",
    "BFS(g,1)                "
   ]
  },
  {
   "cell_type": "code",
   "execution_count": 21,
   "id": "15bc47d0-d895-4c35-b52a-ea2d2c923f6d",
   "metadata": {},
   "outputs": [
    {
     "name": "stdout",
     "output_type": "stream",
     "text": [
      "1\n",
      "2\n",
      "3\n",
      "4\n",
      "5\n",
      "6\n",
      "7\n",
      "8\n",
      "9\n"
     ]
    }
   ],
   "source": [
    "###Preorder BST\n",
    "class node:\n",
    "    def __init__(self,data):\n",
    "        self.value=data\n",
    "        self.left=None\n",
    "        self.right=None\n",
    "    \n",
    "def ins_bst(root,value):\n",
    "    if root==None:\n",
    "        return node(value)\n",
    "            \n",
    "    if value<root.value:\n",
    "        root.left=ins_bst(root.left,value)\n",
    "    if value>root.value:\n",
    "       root.right=ins_bst(root.right,value)\n",
    "\n",
    "    return root\n",
    "def inorder(root):\n",
    "    if root:\n",
    "        inorder(root.left)\n",
    "        print(root.value)\n",
    "        inorder(root.right)\n",
    "\n",
    "L=[4,6,7,3,8,2,5,9,1]\n",
    "root=node(L.pop(0))\n",
    "for i in L:\n",
    "    ins_bst(root,i)\n",
    "\n",
    "inorder(root)    "
   ]
  },
  {
   "cell_type": "code",
   "execution_count": null,
   "id": "5d37e6e7-9f0b-4e5b-af33-620a8130cc4c",
   "metadata": {},
   "outputs": [],
   "source": []
  }
 ],
 "metadata": {
  "kernelspec": {
   "display_name": "Python 3 (ipykernel)",
   "language": "python",
   "name": "python3"
  },
  "language_info": {
   "codemirror_mode": {
    "name": "ipython",
    "version": 3
   },
   "file_extension": ".py",
   "mimetype": "text/x-python",
   "name": "python",
   "nbconvert_exporter": "python",
   "pygments_lexer": "ipython3",
   "version": "3.12.0"
  }
 },
 "nbformat": 4,
 "nbformat_minor": 5
}
