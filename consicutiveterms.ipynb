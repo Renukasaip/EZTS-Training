{
 "cells": [
  {
   "cell_type": "code",
   "execution_count": null,
   "id": "43e07cae-98b2-4151-ab1c-16f1c3ef0cdd",
   "metadata": {},
   "outputs": [],
   "source": [
    "##stack Program\n",
    "class stack:\n",
    "    def __init__(self):\n",
    "        self.items=[]\n",
    "\n",
    "    def push(self,data):\n",
    "        self.items.append(data)\n",
    "    def pop(self):\n",
    "        return self.items.pop()\n",
    "    def size(self):\n",
    "        return len(self.items)\n",
    "\n",
    "s=stack()\n",
    "s.push(10)\n",
    "s.push(20)\n",
    "s.push(30)\n",
    "s.push(40)\n",
    "s.push(50)\n",
    "print(s.items)\n",
    "print(s.pop())\n",
    "print(s.items)\n",
    "print(s.size())\n",
    "    "
   ]
  }
 ],
 "metadata": {
  "kernelspec": {
   "display_name": "Python 3 (ipykernel)",
   "language": "python",
   "name": "python3"
  },
  "language_info": {
   "codemirror_mode": {
    "name": "ipython",
    "version": 3
   },
   "file_extension": ".py",
   "mimetype": "text/x-python",
   "name": "python",
   "nbconvert_exporter": "python",
   "pygments_lexer": "ipython3",
   "version": "3.12.0"
  }
 },
 "nbformat": 4,
 "nbformat_minor": 5
}
