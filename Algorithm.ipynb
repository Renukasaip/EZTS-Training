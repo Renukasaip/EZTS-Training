{
 "cells": [
  {
   "cell_type": "code",
   "execution_count": 3,
   "id": "e483ea6f-0619-4db3-9bf9-172ce40a03d8",
   "metadata": {},
   "outputs": [
    {
     "name": "stdin",
     "output_type": "stream",
     "text": [
      " 5 10 15 7 8 9 4\n",
      " 1 3 5 4 1 3 2\n",
      " 15\n"
     ]
    },
    {
     "name": "stdout",
     "output_type": "stream",
     "text": [
      "51.0\n"
     ]
    }
   ],
   "source": [
    "##Greedy Algorithm\n",
    "price=list(map(float,input().split()))\n",
    "weight=list(map(float,input().split()))\n",
    "profit=0\n",
    "ratio_list=[]\n",
    "max_weight=int(input())\n",
    "for i in range(len(price)):\n",
    "    ratio_list.append(price[i]/weight[i])\n",
    "while max_weight>0:\n",
    "    index=ratio_list.index(max(ratio_list))\n",
    "    max_weight-=weight[index]\n",
    "    profit+=price[index]\n",
    "    ratio_list.pop(index)\n",
    "    price.pop(index)\n",
    "    weight.pop(index)\n",
    "\n",
    "print(profit)\n",
    "          "
   ]
  },
  {
   "cell_type": "code",
   "execution_count": null,
   "id": "3c37fdfb-f363-4885-8142-2a4cdd8a26b8",
   "metadata": {},
   "outputs": [],
   "source": [
    " "
   ]
  }
 ],
 "metadata": {
  "kernelspec": {
   "display_name": "Python 3 (ipykernel)",
   "language": "python",
   "name": "python3"
  },
  "language_info": {
   "codemirror_mode": {
    "name": "ipython",
    "version": 3
   },
   "file_extension": ".py",
   "mimetype": "text/x-python",
   "name": "python",
   "nbconvert_exporter": "python",
   "pygments_lexer": "ipython3",
   "version": "3.12.0"
  }
 },
 "nbformat": 4,
 "nbformat_minor": 5
}
