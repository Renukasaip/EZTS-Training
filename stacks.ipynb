{
 "cells": [
  {
   "cell_type": "code",
   "execution_count": 1,
   "id": "43e07cae-98b2-4151-ab1c-16f1c3ef0cdd",
   "metadata": {},
   "outputs": [
    {
     "name": "stdout",
     "output_type": "stream",
     "text": [
      "[10, 20, 30, 40, 50]\n",
      "50\n",
      "[10, 20, 30, 40]\n",
      "4\n"
     ]
    }
   ],
   "source": [
    "##stack Program\n",
    "class stack:\n",
    "    def __init__(self):\n",
    "        self.items=[]\n",
    "\n",
    "    def push(self,data):\n",
    "        self.items.append(data)\n",
    "    def pop(self):\n",
    "        return self.items.pop()\n",
    "    def size(self):\n",
    "        return len(self.items)\n",
    "\n",
    "s=stack()\n",
    "s.push(10)\n",
    "s.push(20)\n",
    "s.push(30)\n",
    "s.push(40)\n",
    "s.push(50)\n",
    "print(s.items)\n",
    "print(s.pop())\n",
    "print(s.items)\n",
    "print(s.size())\n",
    "    "
   ]
  },
  {
   "cell_type": "code",
   "execution_count": 2,
   "id": "427d8a9e-3790-4d0c-994f-3f96ea4e5b81",
   "metadata": {},
   "outputs": [
    {
     "name": "stdout",
     "output_type": "stream",
     "text": [
      "valid\n",
      "[]\n"
     ]
    }
   ],
   "source": [
    "e=\"[3+7{52/11(3+5)}]\"\n",
    "s=stack()\n",
    "OB=\"[{(\"\n",
    "CB=\"]})\"\n",
    "flag=0\n",
    "for i in e:\n",
    "    if i in OB:\n",
    "        s.push(i)\n",
    "    if i in CB:\n",
    "        x=s.pop()  \n",
    "        if x==\"(\" and i==\")\":\n",
    "            pass\n",
    "        elif x==\"{\" and i==\"}\":\n",
    "            pass\n",
    "        elif x==\"[\" and i==\"]\":    \n",
    "            pass\n",
    "        else:\n",
    "            flag=1\n",
    "            break\n",
    "\n",
    "if flag==0 and s.size()==0:\n",
    "    print(\"valid\")\n",
    "else:\n",
    "    print(\"invalid\")\n",
    "\n",
    "print(s.items)\n",
    "      "
   ]
  },
  {
   "cell_type": "code",
   "execution_count": 3,
   "id": "f925c5c9-3f7d-43a2-9c23-5c56f0128935",
   "metadata": {},
   "outputs": [
    {
     "name": "stdout",
     "output_type": "stream",
     "text": [
      "[5, 14, 14, -1, 7, 7, 9, -1, 6, 9, -1, 5, 5, -1, -1]\n"
     ]
    }
   ],
   "source": [
    "class stack:\n",
    "    def __init__(self):\n",
    "        self.items=[]\n",
    "\n",
    "    def push(self,data):\n",
    "        self.items.append(data)\n",
    "    def pop(self):\n",
    "        return self.items.pop()\n",
    "    def size(self):\n",
    "        return len(self.items)\n",
    "    def top(self):\n",
    "        return self.items[-1]\n",
    "l=[3,5,2,14,5,3,7,9,4,6,9,4,2,5,3]\n",
    "O=[0]*len(l)\n",
    "s=stack()\n",
    "for i in range (len(l)-1,-1,-1):\n",
    "    while s.size()!=0 and s.top()<=l[i]:\n",
    "        if s.top()<=l[i]:\n",
    "            s.pop()\n",
    "    if s.size()==0:\n",
    "        O[i]=-1\n",
    "    else:\n",
    "        O[i]=s.top()\n",
    "    s.push(l[i])\n",
    "print(O)    \n"
   ]
  },
  {
   "cell_type": "code",
   "execution_count": null,
   "id": "92452428-44ab-4181-8b7a-d286696be7d9",
   "metadata": {},
   "outputs": [],
   "source": []
  }
 ],
 "metadata": {
  "kernelspec": {
   "display_name": "Python 3 (ipykernel)",
   "language": "python",
   "name": "python3"
  },
  "language_info": {
   "codemirror_mode": {
    "name": "ipython",
    "version": 3
   },
   "file_extension": ".py",
   "mimetype": "text/x-python",
   "name": "python",
   "nbconvert_exporter": "python",
   "pygments_lexer": "ipython3",
   "version": "3.12.0"
  }
 },
 "nbformat": 4,
 "nbformat_minor": 5
}
